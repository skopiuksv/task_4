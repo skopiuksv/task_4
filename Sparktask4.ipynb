{
 "cells": [
  {
   "cell_type": "code",
   "execution_count": 149,
   "id": "ad7cc4a9",
   "metadata": {},
   "outputs": [],
   "source": [
    "import pyspark.sql.types as t\n",
    "from pyspark.sql import functions as f\n",
    "from pyspark.sql import SparkSession"
   ]
  },
  {
   "cell_type": "code",
   "execution_count": 37,
   "id": "5b22f8e8",
   "metadata": {},
   "outputs": [
    {
     "name": "stdout",
     "output_type": "stream",
     "text": [
      "22/08/27 15:42:26 WARN NativeCodeLoader: Unable to load native-hadoop library for your platform... using builtin-java classes where applicable\n"
     ]
    },
    {
     "name": "stderr",
     "output_type": "stream",
     "text": [
      "Setting default log level to \"WARN\".\n",
      "To adjust logging level use sc.setLogLevel(newLevel). For SparkR, use setLogLevel(newLevel).\n"
     ]
    }
   ],
   "source": [
    "spark = SparkSession.\\\n",
    "    builder.\\\n",
    "    appName(\"task4\").\\\n",
    "    config(\"spark.jars\", \"postgresql-42.5.0.jar\").\\\n",
    "    getOrCreate()"
   ]
  },
  {
   "cell_type": "code",
   "execution_count": 38,
   "id": "a049d6cd",
   "metadata": {},
   "outputs": [],
   "source": [
    "connector = spark.read\\\n",
    "    .format(\"jdbc\")\\\n",
    "    .option(\"url\", \"jdbc:postgresql://localhost:5432/task3db\")\\\n",
    "    .option(\"user\", \"postgres\")\\\n",
    "    .option(\"password\", \"postgres\")\\\n",
    "    .option(\"driver\", \"org.postgresql.Driver\")"
   ]
  },
  {
   "cell_type": "code",
   "execution_count": 39,
   "id": "c53796c7",
   "metadata": {},
   "outputs": [],
   "source": [
    "def table_reader(table_name:str):\n",
    "    return connector.option(\"dbtable\", table_name).load()"
   ]
  },
  {
   "cell_type": "code",
   "execution_count": 43,
   "id": "f3784f11",
   "metadata": {},
   "outputs": [],
   "source": [
    "actor = table_reader('actor')\n",
    "address = table_reader('address')\n",
    "category = table_reader('category')\n",
    "city = table_reader('city')\n",
    "country = table_reader('country')\n",
    "customer = table_reader('customer')\n",
    "film  = table_reader('film')\n",
    "film_actor = table_reader('film_actor')\n",
    "film_category = table_reader('film_category')\n",
    "inventory = table_reader('inventory')\n",
    "language = table_reader('language')\n",
    "payment = table_reader('payment')\n",
    "rental = table_reader('rental')\n",
    "staff = table_reader('staff')\n",
    "store = table_reader('store')"
   ]
  },
  {
   "cell_type": "code",
   "execution_count": 52,
   "id": "52c3ed3a",
   "metadata": {},
   "outputs": [
    {
     "name": "stdout",
     "output_type": "stream",
     "text": [
      "+-----------+-----+\n",
      "|       name|count|\n",
      "+-----------+-----+\n",
      "|     Sports|   74|\n",
      "|    Foreign|   73|\n",
      "|     Family|   69|\n",
      "|Documentary|   68|\n",
      "|  Animation|   66|\n",
      "|     Action|   64|\n",
      "|        New|   63|\n",
      "|      Drama|   62|\n",
      "|      Games|   61|\n",
      "|     Sci-Fi|   61|\n",
      "|   Children|   60|\n",
      "|     Comedy|   58|\n",
      "|     Travel|   57|\n",
      "|   Classics|   57|\n",
      "|     Horror|   56|\n",
      "|      Music|   51|\n",
      "+-----------+-----+\n",
      "\n"
     ]
    }
   ],
   "source": [
    "#1\n",
    "\n",
    "task1 = (\n",
    "    category.join(film_category, on='category_id')\n",
    "    .groupby('name')\n",
    "    .count()\n",
    "    .orderBy(-f.col('count').cast(t.FloatType()))\n",
    ")\n",
    "task1.show()"
   ]
  },
  {
   "cell_type": "code",
   "execution_count": 53,
   "id": "1298ab74",
   "metadata": {},
   "outputs": [
    {
     "name": "stdout",
     "output_type": "stream",
     "text": [
      "+------------------+-----+\n",
      "|        actor_name|total|\n",
      "+------------------+-----+\n",
      "|       SUSAN DAVIS|  242|\n",
      "|    GINA DEGENERES|  209|\n",
      "|       WALTER TORN|  201|\n",
      "|       MARY KEITEL|  192|\n",
      "|    MATTHEW CARREY|  190|\n",
      "|     ANGELA HUDSON|  183|\n",
      "|     GROUCHO DUNST|  183|\n",
      "|     SANDRA KILMER|  181|\n",
      "|       HENRY BERRY|  180|\n",
      "|          UMA WOOD|  179|\n",
      "|    WARREN JACKMAN|  178|\n",
      "|   NATALIE HOPKINS|  174|\n",
      "|ANGELA WITHERSPOON|  174|\n",
      "|        VAL BOLGER|  173|\n",
      "|      SIDNEY CROWE|  172|\n",
      "|        MARY TANDY|  172|\n",
      "|   VIVIEN BASINGER|  172|\n",
      "|     JULIA MCQUEEN|  172|\n",
      "|      SEAN GUINESS|  171|\n",
      "|    RUSSELL TEMPLE|  171|\n",
      "+------------------+-----+\n",
      "only showing top 20 rows\n",
      "\n"
     ]
    }
   ],
   "source": [
    "#2\n",
    "\n",
    "task2 = (actor.join(film_actor, on=\"actor_id\")\n",
    "    .join(film, on=\"film_id\")\n",
    "    .withColumn(\"actor_name\", f.concat_ws(' ', \"first_name\", \"last_name\"))\n",
    "    .groupBy(\"actor_name\")\n",
    "    .agg(f.sum(\"rental_duration\").alias(\"total\"))\n",
    "    .orderBy(-f.col(\"total\"))\n",
    ")\n",
    "task2.show()"
   ]
  },
  {
   "cell_type": "code",
   "execution_count": 60,
   "id": "7151afb9",
   "metadata": {},
   "outputs": [
    {
     "name": "stdout",
     "output_type": "stream",
     "text": [
      "+------+-------+\n",
      "|  name|payment|\n",
      "+------+-------+\n",
      "|Sports|5314.21|\n",
      "+------+-------+\n",
      "only showing top 1 row\n",
      "\n"
     ]
    }
   ],
   "source": [
    "#3\n",
    "\n",
    "task3 = (\n",
    "    category.join(film_category, on='category_id')\n",
    "    .join(film, on='film_id')\n",
    "    .join(inventory, on='film_id')\n",
    "    .join(rental, on='inventory_id')\n",
    "    .join(payment, on='rental_id')\n",
    "    .groupBy('name')\n",
    "    .agg(f.sum('amount').alias('payment'))\n",
    "    .orderBy(-f.col('payment'))\n",
    ")\n",
    "task3.show(1)"
   ]
  },
  {
   "cell_type": "code",
   "execution_count": 69,
   "id": "3d6551ca",
   "metadata": {
    "scrolled": true
   },
   "outputs": [
    {
     "name": "stdout",
     "output_type": "stream",
     "text": [
      "+--------------------+\n",
      "|               title|\n",
      "+--------------------+\n",
      "|      ALICE FANTASIA|\n",
      "|         APOLLO TEEN|\n",
      "|      ARGONAUTS TOWN|\n",
      "|       ARK RIDGEMONT|\n",
      "|ARSENIC INDEPENDENCE|\n",
      "|   BOONDOCK BALLROOM|\n",
      "|       BUTCH PANTHER|\n",
      "|       CATCH AMISTAD|\n",
      "| CHINATOWN GLADIATOR|\n",
      "|      CHOCOLATE DUCK|\n",
      "|COMMANDMENTS EXPRESS|\n",
      "|    CROSSING DIVORCE|\n",
      "|     CROWDS TELEMARK|\n",
      "|    CRYSTAL BREAKING|\n",
      "|          DAZED PUNK|\n",
      "|DELIVERANCE MULHO...|\n",
      "|   FIREHOUSE VIETNAM|\n",
      "|       FLOATS GARDEN|\n",
      "|FRANKENSTEIN STRA...|\n",
      "|  GLADIATOR WESTWARD|\n",
      "+--------------------+\n",
      "only showing top 20 rows\n",
      "\n"
     ]
    }
   ],
   "source": [
    "#4\n",
    "\n",
    "task4 = (\n",
    "    film.join(inventory, on='film_id', how='left')\n",
    "    .filter('inventory_id is null')\n",
    "    .select('title')\n",
    "    .orderBy('title')\n",
    ")\n",
    "task4.show()"
   ]
  },
  {
   "cell_type": "code",
   "execution_count": 147,
   "id": "5cf1e314",
   "metadata": {},
   "outputs": [
    {
     "name": "stdout",
     "output_type": "stream",
     "text": [
      "+-------------+-----+\n",
      "|   actor_name|count|\n",
      "+-------------+-----+\n",
      "| HELEN VOIGHT|    7|\n",
      "|  SUSAN DAVIS|    6|\n",
      "|   MARY TANDY|    5|\n",
      "|   RALPH CRUZ|    5|\n",
      "|KEVIN GARLAND|    5|\n",
      "|  WHOOPI HURT|    5|\n",
      "+-------------+-----+\n",
      "\n"
     ]
    }
   ],
   "source": [
    "#5\n",
    "\n",
    "task5_table = (\n",
    "    actor\n",
    "    .join(film_actor, on='actor_id')\n",
    "    .join(film, on='film_id')\n",
    "    .join(film_category, on='film_id')\n",
    "    .join(category, on='category_id')\n",
    "    .where(f.col('name') == 'Children')\n",
    "    .withColumn(\"actor_name\", f.concat_ws(' ', \"first_name\", \"last_name\"))\n",
    "    .groupBy(\"actor_name\")\n",
    "    .count()\n",
    "    .orderBy(-f.col('count'))\n",
    ")\n",
    "\n",
    "tk = (\n",
    "    task5_table.select(f.col('count'))\n",
    "    .distinct()\n",
    "    .limit(3)\n",
    "    .rdd.map(lambda row : row[0]).collect()\n",
    ")\n",
    "\n",
    "task5 = (task5_table.\n",
    "         filter(f.col('count').\n",
    "                isin(tk))\n",
    ")\n",
    "task5.show()"
   ]
  },
  {
   "cell_type": "code",
   "execution_count": 178,
   "id": "ac1852d8",
   "metadata": {},
   "outputs": [
    {
     "name": "stdout",
     "output_type": "stream",
     "text": [
      "+------------------+------+--------+\n",
      "|              city|active|inactive|\n",
      "+------------------+------+--------+\n",
      "|         Pingxiang|   0.0|       1|\n",
      "|       Szkesfehrvr|   0.0|       1|\n",
      "|  Charlotte Amalie|   0.0|       1|\n",
      "|         Najafabad|   0.0|       1|\n",
      "|           Wroclaw|   0.0|       1|\n",
      "|            Ktahya|   0.0|       1|\n",
      "|            Amroha|   0.0|       1|\n",
      "|   Southend-on-Sea|   0.0|       1|\n",
      "|           Bat Yam|   0.0|       1|\n",
      "|            Kamyin|   0.0|       1|\n",
      "|          Xiangfan|   0.0|       1|\n",
      "|            Daxian|   0.0|       1|\n",
      "|          Uluberia|   0.0|       1|\n",
      "|     Coatzacoalcos|   0.0|       1|\n",
      "|        Kumbakonam|   0.0|       1|\n",
      "|          Fengshan|   1.0|       0|\n",
      "|A Corua (La Corua)|   1.0|       0|\n",
      "|           El Alto|   1.0|       0|\n",
      "|          Myingyan|   1.0|       0|\n",
      "|              Linz|   1.0|       0|\n",
      "+------------------+------+--------+\n",
      "only showing top 20 rows\n",
      "\n"
     ]
    }
   ],
   "source": [
    "#6\n",
    "\n",
    "task6 = (\n",
    "    customer\n",
    "    .join(address, on='address_id')\n",
    "    .join(city, on='city_id')\n",
    "    .groupBy('city')\n",
    "    .agg(\n",
    "        f.sum(f.col('active').cast(t.FloatType())).alias('active'),\n",
    "        (f.count(f.col('active')) - f.sum(f.col('active'))).alias('inactive')\n",
    "    )\n",
    "    .orderBy(-f.col(\"inactive\"))\n",
    ")\n",
    "\n",
    "task6.show()"
   ]
  },
  {
   "cell_type": "code",
   "execution_count": 188,
   "id": "cf27c921",
   "metadata": {},
   "outputs": [
    {
     "name": "stdout",
     "output_type": "stream",
     "text": [
      "+-------+--------------------+\n",
      "|   name|          total_time|\n",
      "+-------+--------------------+\n",
      "| Sports|INTERVAL '515 00:...|\n",
      "|Foreign|INTERVAL '269 16:...|\n",
      "+-------+--------------------+\n",
      "\n"
     ]
    }
   ],
   "source": [
    "#7\n",
    "\n",
    "task7_table = (\n",
    "    city\n",
    "    .join(address, on='city_id')\n",
    "    .join(customer, on='address_id')\n",
    "    .join(rental, on='customer_id')\n",
    "    .join(inventory, on='inventory_id')\n",
    "    .join(film, on='film_id')\n",
    "    .join(film_category, on='film_id')\n",
    "    .join(category, on='category_id')\n",
    "    .filter('return_date is not null')\n",
    "    .withColumn('time', f.col('return_date') - f.col('rental_date'))\n",
    "    .select('name', 'time', 'city')\n",
    ")\n",
    "\n",
    "task7_1 = (task7_table\n",
    "    .filter(f.col('city').like('A%') | f.col('city').like('a%'))\n",
    "    .groupBy('name')\n",
    "    .agg(f.sum('time').alias('total_time'))\n",
    "    .orderBy(-f.col('total_time'))\n",
    "    .limit(1)\n",
    ")\n",
    "\n",
    "task7_2 = (task7_table\n",
    "    .filter(f.col('city').like('%-%'))\n",
    "    .groupBy('name')\n",
    "    .agg(f.sum('time').alias('total_time'))\n",
    "    .orderBy(-f.col('total_time'))\n",
    "    .limit(1)\n",
    ")\n",
    "\n",
    "task7 = task7_1.union(task7_2)\n",
    "task7.show()"
   ]
  }
 ],
 "metadata": {
  "kernelspec": {
   "display_name": "Python 3 (ipykernel)",
   "language": "python",
   "name": "python3"
  },
  "language_info": {
   "codemirror_mode": {
    "name": "ipython",
    "version": 3
   },
   "file_extension": ".py",
   "mimetype": "text/x-python",
   "name": "python",
   "nbconvert_exporter": "python",
   "pygments_lexer": "ipython3",
   "version": "3.10.2"
  }
 },
 "nbformat": 4,
 "nbformat_minor": 5
}
